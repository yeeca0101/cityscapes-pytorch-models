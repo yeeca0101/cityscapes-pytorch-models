{
 "cells": [
  {
   "cell_type": "code",
   "execution_count": 4,
   "metadata": {},
   "outputs": [],
   "source": [
    "import os\n",
    "import torch\n",
    "import torch.nn as nn\n",
    "import numpy as np\n",
    "from tqdm import tqdm\n",
    "from unet.unet_model import Unet,ResNeXtUnet\n",
    "from cityscapes import build_datasets\n",
    "from losses import SegmentationLoss\n",
    "from utils import *\n"
   ]
  },
  {
   "cell_type": "code",
   "execution_count": 11,
   "metadata": {},
   "outputs": [],
   "source": [
    "device = torch.device('cpu')\n",
    "class_names = [\n",
    "        'road', 'sidewalk', 'building', 'wall', 'fence', 'pole', 'traffic light',\n",
    "        'traffic sign', 'vegetation', 'terrain', 'sky', 'person', 'rider', 'car',\n",
    "        'truck', 'bus', 'train', 'motorcycle', 'bicycle', 'void'\n",
    "    ]"
   ]
  },
  {
   "cell_type": "code",
   "execution_count": 18,
   "metadata": {},
   "outputs": [],
   "source": [
    "# only used validation. use argmax fn\n",
    "def calculate_iou(pred, target, num_classes, ignore_index=None):\n",
    "    # pred : model(inp).argmax(dim=c) \n",
    "    pred = pred.long()\n",
    "    target = target.long()\n",
    "    \n",
    "    pred = pred.view(-1)\n",
    "    target = target.view(-1)\n",
    "    \n",
    "    # Create a mask for valid pixels if ignore_index is provided\n",
    "    if ignore_index is not None:\n",
    "        valid_mask = target != ignore_index\n",
    "        pred = pred[valid_mask]\n",
    "        target = target[valid_mask]\n",
    "    \n",
    "    # Ensure all values are within the valid range\n",
    "    pred = torch.clamp(pred, 0, num_classes - 1)\n",
    "    target = torch.clamp(target, 0, num_classes - 1)\n",
    "    \n",
    "    # One-hot encoding\n",
    "    pred_one_hot = torch.nn.functional.one_hot(pred, num_classes=num_classes)\n",
    "    target_one_hot = torch.nn.functional.one_hot(target, num_classes=num_classes)\n",
    "\n",
    "    # Intersection and Union\n",
    "    intersection = (pred_one_hot & target_one_hot).sum(dim=0)\n",
    "    union = (pred_one_hot | target_one_hot).sum(dim=0)\n",
    "\n",
    "    # IoU calculation\n",
    "    iou = intersection.float() / union.float()\n",
    "    iou[union == 0] = float('nan')  # Set IoU to NaN where union is zero\n",
    "\n",
    "    return iou.tolist()\n",
    "\n",
    "def evaluate(model, data_loader):\n",
    "    model.eval()\n",
    "    pixel_accuracy = 0.0\n",
    "    total_miou = 0.0\n",
    "    num_classes = 19\n",
    "    class_ious = [[] for _ in range(num_classes)]\n",
    "\n",
    "    with torch.no_grad():\n",
    "        for images, labels in tqdm(data_loader, desc='Validating', leave=False):\n",
    "            images = images.to(device)\n",
    "            labels = labels.to(device).long()\n",
    "\n",
    "            outputs = model(images)\n",
    "            _, predicted = torch.max(outputs.data, 1)\n",
    "\n",
    "            pixel_accuracy += (predicted == labels).sum().item() / (labels.size(0) * labels.size(1) * labels.size(2))\n",
    "            ious = calculate_iou(predicted, labels, num_classes)\n",
    "            for cls in range(num_classes):\n",
    "                if not np.isnan(ious[cls]):\n",
    "                    class_ious[cls].append(ious[cls])\n",
    "            total_miou += np.nanmean(ious)\n",
    "\n",
    "    pixel_accuracy /= len(data_loader)\n",
    "    total_miou /= len(data_loader)\n",
    "\n",
    "    class_miou = [np.mean(cls_ious) if cls_ious else float('nan') for cls_ious in class_ious]\n",
    "\n",
    "    return pixel_accuracy, total_miou, class_miou\n",
    "\n",
    "def get_model(model_name='resnextunet',device='cpu',checkpoint_path=None,train=False,act=None,n_classes=19):\n",
    "    sup_model ={\n",
    "        'unet':Unet,\n",
    "        'resnextunet':ResNeXtUnet,\n",
    "    }\n",
    "    model = sup_model[model_name](in_channels=3,n_classes=n_classes,act=act)\n",
    "    chkpt = torch.load(checkpoint_path,map_location='cpu')['model']\n",
    "    model.load_state_dict(chkpt)\n",
    "    if not train:\n",
    "        model.eval()\n",
    "    model.to(device)\n",
    "    return model\n"
   ]
  },
  {
   "cell_type": "code",
   "execution_count": 19,
   "metadata": {},
   "outputs": [],
   "source": [
    "checkpoint_path = '/workspace/UNET/checkpoints/unet_void/unet_ReLU_1_240_0.49.pth'\n",
    "model = get_model('unet',checkpoint_path=checkpoint_path,act=nn.ReLU(),n_classes=20)\n"
   ]
  },
  {
   "cell_type": "code",
   "execution_count": 20,
   "metadata": {},
   "outputs": [],
   "source": [
    "_, val_loader = build_datasets(batch_size=2)"
   ]
  },
  {
   "cell_type": "code",
   "execution_count": null,
   "metadata": {},
   "outputs": [],
   "source": [
    "pixel_accuracy, total_miou, class_miou = evaluate(model,data_loader=val_loader)"
   ]
  },
  {
   "cell_type": "code",
   "execution_count": 15,
   "metadata": {},
   "outputs": [
    {
     "name": "stdout",
     "output_type": "stream",
     "text": [
      "road(0): 87.76\n",
      "sidewalk(1): 61.20\n",
      "building(2): 79.13\n",
      "wall(3): 14.52\n",
      "fence(4): 14.16\n",
      "pole(5): 39.27\n",
      "traffic light(6): 21.84\n",
      "traffic sign(7): 44.98\n",
      "vegetation(8): 83.68\n",
      "terrain(9): 25.73\n",
      "sky(10): 79.21\n",
      "person(11): 41.56\n",
      "rider(12): 23.15\n",
      "car(13): 80.62\n",
      "truck(14): 11.22\n",
      "bus(15): 21.23\n",
      "train(16): 4.40\n",
      "motorcycle(17): 6.11\n",
      "bicycle(18): 36.26\n",
      "void(19): 50.36\n",
      "46.47\n"
     ]
    }
   ],
   "source": [
    "for idx, (name, iou) in enumerate(zip(class_names, class_miou)):\n",
    "    print(f\"{name}({idx}): {iou*100:.2f}\")\n",
    "print(f'{total_miou*100:.2f}')"
   ]
  },
  {
   "cell_type": "code",
   "execution_count": null,
   "metadata": {},
   "outputs": [],
   "source": []
  }
 ],
 "metadata": {
  "kernelspec": {
   "display_name": "Python 3",
   "language": "python",
   "name": "python3"
  },
  "language_info": {
   "codemirror_mode": {
    "name": "ipython",
    "version": 3
   },
   "file_extension": ".py",
   "mimetype": "text/x-python",
   "name": "python",
   "nbconvert_exporter": "python",
   "pygments_lexer": "ipython3",
   "version": "3.10.12"
  }
 },
 "nbformat": 4,
 "nbformat_minor": 2
}
